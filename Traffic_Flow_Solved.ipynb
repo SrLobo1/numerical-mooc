{
 "metadata": {
  "name": "",
  "signature": "sha256:88f726a1c8f9e9acac4df2d4943a5ace092fb9980e96c8b81cfa979b16b3055f"
 },
 "nbformat": 3,
 "nbformat_minor": 0,
 "worksheets": [
  {
   "cells": [
    {
     "cell_type": "code",
     "collapsed": false,
     "input": [
      "import numpy                       \n",
      "import matplotlib.pyplot as plt    \n",
      "%matplotlib inline\n",
      "from matplotlib import rcParams\n",
      "rcParams['font.family'] = 'serif'\n",
      "rcParams['font.size'] = 16"
     ],
     "language": "python",
     "metadata": {},
     "outputs": [],
     "prompt_number": 100
    },
    {
     "cell_type": "code",
     "collapsed": false,
     "input": [
      "nx = 51.\n",
      "L=11.\n",
      "dx = L/(nx-1)\n",
      "nt = 2.   \n",
      "Vmax = 80   #maximum velocity\n",
      "rhomax = 250   #maximum density\n",
      "dt = 0.001\n",
      "\n",
      "x = numpy.linspace(0,L,nx)\n",
      "\n",
      "rho = numpy.ones(nx)*10\n",
      "rho[10:20] = 50\n",
      "\n",
      "rhon = numpy.ones(nx) "
     ],
     "language": "python",
     "metadata": {},
     "outputs": [],
     "prompt_number": 101
    },
    {
     "cell_type": "heading",
     "level": 1,
     "metadata": {},
     "source": [
      "QUESTIONS PART A"
     ]
    },
    {
     "cell_type": "heading",
     "level": 3,
     "metadata": {},
     "source": [
      "Minimun Velocity in t = 0"
     ]
    },
    {
     "cell_type": "code",
     "collapsed": false,
     "input": [
      "V=Vmax*(1-rho/rhomax)"
     ],
     "language": "python",
     "metadata": {},
     "outputs": [],
     "prompt_number": 102
    },
    {
     "cell_type": "code",
     "collapsed": false,
     "input": [
      "print min(V)/3.6"
     ],
     "language": "python",
     "metadata": {},
     "outputs": [
      {
       "output_type": "stream",
       "stream": "stdout",
       "text": [
        "17.7777777778\n"
       ]
      }
     ],
     "prompt_number": 103
    },
    {
     "cell_type": "heading",
     "level": 3,
     "metadata": {},
     "source": [
      "Average velocity in t = 3 min"
     ]
    },
    {
     "cell_type": "code",
     "collapsed": false,
     "input": [
      "print 3./60"
     ],
     "language": "python",
     "metadata": {},
     "outputs": [
      {
       "output_type": "stream",
       "stream": "stdout",
       "text": [
        "0.05\n"
       ]
      }
     ],
     "prompt_number": 112
    },
    {
     "cell_type": "code",
     "collapsed": false,
     "input": [
      "nt=51\n",
      "rho = numpy.ones(nx)*10\n",
      "rho[10:20] = 50\n",
      "for n in range(nt):  \n",
      "    rhon = rho.copy() \n",
      "    rho[1:] = rhon[1:] - Vmax*(dt/dx)*((rhon[1:]-rhon[0:-1])-(rhon[1:]**2-rhon[0:-1]**2)/rhomax)\n",
      "print rho"
     ],
     "language": "python",
     "metadata": {},
     "outputs": [
      {
       "output_type": "stream",
       "stream": "stdout",
       "text": [
        "[ 10.          10.          10.          10.          10.          10.          10.\n",
        "  10.          10.          10.          10.00000005  10.00000139\n",
        "  10.00001872  10.00016643  10.00109652  10.00571822  10.02461892\n",
        "  10.09014151  10.28689676  10.8063871   12.02074739  14.52132686\n",
        "  18.95767969  25.46782091  32.98404415  39.53345857  43.68442174\n",
        "  45.30272772  44.98718607  43.38323791  40.9568032   38.01816891\n",
        "  34.78399872  31.4186845   28.05609623  24.81021658  21.7795333\n",
        "  19.04715657  16.6776177   14.71158711  13.16066389  12.00512659\n",
        "  11.19713322  10.66984254  10.35009466  10.17048335  10.07720514\n",
        "  10.03246777  10.01266402  10.00457608  10.00152992]\n"
       ]
      }
     ],
     "prompt_number": 113
    },
    {
     "cell_type": "code",
     "collapsed": false,
     "input": [
      "nx=51\n",
      "sumrho=0.\n",
      "for n in range(nx): \n",
      "    sumrho=rho[n]+sumrho\n",
      "rhoavg=sumrho/nx\n",
      "\n",
      "Vavg=Vmax*(1-rhoavg/rhomax)/3.6\n",
      "print Vavg"
     ],
     "language": "python",
     "metadata": {},
     "outputs": [
      {
       "output_type": "stream",
       "stream": "stdout",
       "text": [
        "20.6361667161\n"
       ]
      }
     ],
     "prompt_number": 114
    },
    {
     "cell_type": "heading",
     "level": 3,
     "metadata": {},
     "source": [
      "Minimun Velocity in t = 6 min"
     ]
    },
    {
     "cell_type": "code",
     "collapsed": false,
     "input": [
      "nt=101\n",
      "rho = numpy.ones(nx)*10\n",
      "rho[10:20] = 50\n",
      "for n in range(nt):  \n",
      "    rhon = rho.copy() \n",
      "    rho[1:] = rhon[1:] - Vmax*(dt/dx)*((rhon[1:]-rhon[0:-1])-(rhon[1:]**2-rhon[0:-1]**2)/rhomax)\n",
      "print rho"
     ],
     "language": "python",
     "metadata": {},
     "outputs": [
      {
       "output_type": "stream",
       "stream": "stdout",
       "text": [
        "[ 10.          10.          10.          10.          10.          10.          10.\n",
        "  10.          10.          10.          10.          10.          10.          10.\n",
        "  10.          10.          10.          10.00000001  10.00000008\n",
        "  10.00000045  10.00000222  10.00000983  10.00003955  10.00014605\n",
        "  10.00049808  10.0015776   10.00466479  10.01293712  10.03379641\n",
        "  10.08348193  10.19561641  10.43581763  10.92387733  11.86022449\n",
        "  13.53794022  16.29018969  20.30158509  25.30522303  30.45267706\n",
        "  34.68999923  37.37518655  38.48932107  38.3777756   37.44054633\n",
        "  35.99071492  34.2384297   32.31730353  30.31266911  28.28152901\n",
        "  26.26477939  24.29422989]\n"
       ]
      }
     ],
     "prompt_number": 115
    },
    {
     "cell_type": "code",
     "collapsed": false,
     "input": [
      "Vmin=min(Vmax*(1-rho/rhomax)/3.6)\n",
      "print Vmin"
     ],
     "language": "python",
     "metadata": {},
     "outputs": [
      {
       "output_type": "stream",
       "stream": "stdout",
       "text": [
        "18.8009492379\n"
       ]
      }
     ],
     "prompt_number": 116
    },
    {
     "cell_type": "heading",
     "level": 1,
     "metadata": {},
     "source": [
      "QUESTIONS PART B"
     ]
    },
    {
     "cell_type": "heading",
     "level": 3,
     "metadata": {},
     "source": [
      "New Conditions"
     ]
    },
    {
     "cell_type": "code",
     "collapsed": false,
     "input": [
      "Vmax = 136\n",
      "rho = numpy.ones(nx)*20\n",
      "rho[10:20] = 50\n",
      "\n",
      "rhon = numpy.ones(nx) "
     ],
     "language": "python",
     "metadata": {},
     "outputs": [],
     "prompt_number": 117
    },
    {
     "cell_type": "heading",
     "level": 3,
     "metadata": {},
     "source": [
      "Minimun Velocity in t = 0"
     ]
    },
    {
     "cell_type": "code",
     "collapsed": false,
     "input": [
      "V=Vmax*(1-rho/rhomax)"
     ],
     "language": "python",
     "metadata": {},
     "outputs": [],
     "prompt_number": 119
    },
    {
     "cell_type": "code",
     "collapsed": false,
     "input": [
      "print min(V)/3.6"
     ],
     "language": "python",
     "metadata": {},
     "outputs": [
      {
       "output_type": "stream",
       "stream": "stdout",
       "text": [
        "30.2222222222\n"
       ]
      }
     ],
     "prompt_number": 120
    },
    {
     "cell_type": "heading",
     "level": 3,
     "metadata": {},
     "source": [
      "Average velocity in t = 3 min"
     ]
    },
    {
     "cell_type": "code",
     "collapsed": false,
     "input": [
      "nt=51\n",
      "rho = numpy.ones(nx)*20\n",
      "rho[10:20] = 50\n",
      "for n in range(nt):  \n",
      "    rhon = rho.copy() \n",
      "    rho[1:] = rhon[1:] - Vmax*(dt/dx)*((rhon[1:]-rhon[0:-1])-(rhon[1:]**2-rhon[0:-1]**2)/rhomax)\n",
      "print rho"
     ],
     "language": "python",
     "metadata": {},
     "outputs": [
      {
       "output_type": "stream",
       "stream": "stdout",
       "text": [
        "[ 20.          20.          20.          20.          20.          20.          20.\n",
        "  20.          20.          20.          20.          20.          20.          20.\n",
        "  20.          20.00000001  20.00000009  20.00000065  20.00000407\n",
        "  20.00002234  20.00010835  20.00046966  20.00183545  20.00651661\n",
        "  20.02116256  20.0632403   20.1747905   20.44844278  21.0687991\n",
        "  22.35609365  24.74582263  28.55877701  33.52078051  38.53739261\n",
        "  42.34960213  44.41125664  44.92740937  44.36261197  43.11479014\n",
        "  41.44825558  39.5277343   37.46022517  35.32252414  33.17631321\n",
        "  31.07579674  29.07117175  27.20949625  25.53353473  24.07884066\n",
        "  22.86956673  21.91412215]\n"
       ]
      }
     ],
     "prompt_number": 122
    },
    {
     "cell_type": "code",
     "collapsed": false,
     "input": [
      "nx=51\n",
      "sumrho=0.\n",
      "for n in range(nx): \n",
      "    sumrho=rho[n]+sumrho\n",
      "rhoavg=sumrho/nx\n",
      "\n",
      "Vavg=Vmax*(1-rhoavg/rhomax)/3.6\n",
      "print Vavg"
     ],
     "language": "python",
     "metadata": {},
     "outputs": [
      {
       "output_type": "stream",
       "stream": "stdout",
       "text": [
        "33.8744962651\n"
       ]
      }
     ],
     "prompt_number": 123
    },
    {
     "cell_type": "heading",
     "level": 3,
     "metadata": {},
     "source": [
      "Minimun Velocity in t = 3 min"
     ]
    },
    {
     "cell_type": "code",
     "collapsed": false,
     "input": [
      "Vmin=min(Vmax*(1-rho/rhomax)/3.6)\n",
      "print Vmin"
     ],
     "language": "python",
     "metadata": {},
     "outputs": [
      {
       "output_type": "stream",
       "stream": "stdout",
       "text": [
        "30.988747028\n"
       ]
      }
     ],
     "prompt_number": 125
    }
   ],
   "metadata": {}
  }
 ]
}